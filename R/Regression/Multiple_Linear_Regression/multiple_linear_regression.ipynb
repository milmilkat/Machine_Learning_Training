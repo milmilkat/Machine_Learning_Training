{
 "cells": [
  {
   "cell_type": "markdown",
   "metadata": {},
   "source": [
    "# Importing the dataset"
   ]
  },
  {
   "cell_type": "code",
   "execution_count": 2,
   "metadata": {},
   "outputs": [],
   "source": [
    "dataset = read.csv(\"50_Startups.csv\")\n",
    "# dataset = [, 2:3]\n",
    "# dataset"
   ]
  },
  {
   "cell_type": "markdown",
   "metadata": {},
   "source": [
    "# Taking care of missing data"
   ]
  },
  {
   "cell_type": "code",
   "execution_count": 2,
   "metadata": {},
   "outputs": [],
   "source": [
    "#dataset$Age = ifelse(is.na(dataset$Age), ave(dataset$Age, FUN = function(x) mean(x, na.rm = TRUE)), dataset$Age)"
   ]
  },
  {
   "cell_type": "markdown",
   "metadata": {},
   "source": [
    "# Encoding categorical data"
   ]
  },
  {
   "cell_type": "code",
   "execution_count": 3,
   "metadata": {},
   "outputs": [],
   "source": [
    "dataset$State = factor(dataset$State, levels = c('New York', 'California', 'Florida'), labels = c(1,2,3))"
   ]
  },
  {
   "cell_type": "markdown",
   "metadata": {},
   "source": [
    "# Splitting the dataset into the Training set and Test set"
   ]
  },
  {
   "cell_type": "code",
   "execution_count": 5,
   "metadata": {},
   "outputs": [],
   "source": [
    "# options(repos='http://cran.rstudio.com/')\n",
    "# install.packages('caTools')\n",
    "library(caTools)\n",
    "set.seed(42)\n",
    "split = sample.split(dataset$Profit, SplitRatio = 2/3)\n",
    "training_set = subset(dataset, split == TRUE)\n",
    "test_set = subset(dataset, split == FALSE)\n",
    "# dim(training_set)"
   ]
  },
  {
   "cell_type": "markdown",
   "metadata": {},
   "source": [
    "# Feature Scaling"
   ]
  },
  {
   "cell_type": "code",
   "execution_count": 5,
   "metadata": {},
   "outputs": [],
   "source": [
    "# training_set = scale(training_set)\n",
    "# test_set = scale(test_set)"
   ]
  },
  {
   "cell_type": "markdown",
   "metadata": {},
   "source": [
    "# Fitting multiple linear regression to the training set"
   ]
  },
  {
   "cell_type": "code",
   "execution_count": 9,
   "metadata": {},
   "outputs": [
    {
     "data": {
      "text/plain": [
       "\n",
       "Call:\n",
       "lm(formula = Profit ~ ., data = training_set)\n",
       "\n",
       "Residuals:\n",
       "   Min     1Q Median     3Q    Max \n",
       "-31725  -4162   1002   4588  15700 \n",
       "\n",
       "Coefficients:\n",
       "                  Estimate Std. Error t value Pr(>|t|)    \n",
       "(Intercept)      4.645e+04  1.081e+04   4.299   0.0002 ***\n",
       "R.D.Spend        8.115e-01  5.986e-02  13.556 1.45e-13 ***\n",
       "Administration  -2.515e-02  6.480e-02  -0.388   0.7010    \n",
       "Marketing.Spend  3.097e-02  2.383e-02   1.299   0.2048    \n",
       "State2           1.498e+03  4.731e+03   0.317   0.7539    \n",
       "State3           2.265e+03  4.523e+03   0.501   0.6206    \n",
       "---\n",
       "Signif. codes:  0 '***' 0.001 '**' 0.01 '*' 0.05 '.' 0.1 ' ' 1\n",
       "\n",
       "Residual standard error: 9329 on 27 degrees of freedom\n",
       "Multiple R-squared:  0.948,\tAdjusted R-squared:  0.9384 \n",
       "F-statistic: 98.48 on 5 and 27 DF,  p-value: < 2.2e-16\n"
      ]
     },
     "metadata": {},
     "output_type": "display_data"
    }
   ],
   "source": [
    "regressor = lm(formula = Profit ~ ., data = training_set)\n",
    "# summary(regressor)"
   ]
  },
  {
   "cell_type": "markdown",
   "metadata": {},
   "source": [
    "# Predicting the test set results"
   ]
  },
  {
   "cell_type": "code",
   "execution_count": 7,
   "metadata": {},
   "outputs": [],
   "source": [
    "y_pred = predict(regressor, newdata = test_set)\n",
    "# y_pred"
   ]
  },
  {
   "cell_type": "markdown",
   "metadata": {},
   "source": [
    "# Building optimal model using backward elimination"
   ]
  },
  {
   "cell_type": "code",
   "execution_count": 10,
   "metadata": {},
   "outputs": [
    {
     "data": {
      "text/plain": [
       "\n",
       "Call:\n",
       "lm(formula = Profit ~ R.D.Spend + Administration + Marketing.Spend + \n",
       "    State, data = dataset)\n",
       "\n",
       "Residuals:\n",
       "   Min     1Q Median     3Q    Max \n",
       "-33504  -4736     90   6672  17338 \n",
       "\n",
       "Coefficients:\n",
       "                  Estimate Std. Error t value Pr(>|t|)    \n",
       "(Intercept)      5.008e+04  6.953e+03   7.204 5.76e-09 ***\n",
       "R.D.Spend        8.060e-01  4.641e-02  17.369  < 2e-16 ***\n",
       "Administration  -2.700e-02  5.223e-02  -0.517    0.608    \n",
       "Marketing.Spend  2.698e-02  1.714e-02   1.574    0.123    \n",
       "State2           4.189e+01  3.256e+03   0.013    0.990    \n",
       "State3           2.407e+02  3.339e+03   0.072    0.943    \n",
       "---\n",
       "Signif. codes:  0 '***' 0.001 '**' 0.01 '*' 0.05 '.' 0.1 ' ' 1\n",
       "\n",
       "Residual standard error: 9439 on 44 degrees of freedom\n",
       "Multiple R-squared:  0.9508,\tAdjusted R-squared:  0.9452 \n",
       "F-statistic: 169.9 on 5 and 44 DF,  p-value: < 2.2e-16\n"
      ]
     },
     "metadata": {},
     "output_type": "display_data"
    }
   ],
   "source": [
    "regressor = lm(formula = Profit ~ R.D.Spend + Administration + Marketing.Spend + State, data = dataset) #using the whole data\n",
    "# summary(regressor)"
   ]
  },
  {
   "cell_type": "markdown",
   "metadata": {},
   "source": [
    "# Automatic backward elimination"
   ]
  },
  {
   "cell_type": "code",
   "execution_count": 11,
   "metadata": {},
   "outputs": [
    {
     "data": {
      "text/plain": [
       "\n",
       "Call:\n",
       "lm(formula = Profit ~ ., data = x)\n",
       "\n",
       "Residuals:\n",
       "   Min     1Q Median     3Q    Max \n",
       "-31994  -3750   -588   5113  19212 \n",
       "\n",
       "Coefficients:\n",
       "             Estimate Std. Error t value Pr(>|t|)    \n",
       "(Intercept) 4.668e+04  3.333e+03   14.00 5.99e-15 ***\n",
       "R.D.Spend   8.659e-01  3.874e-02   22.35  < 2e-16 ***\n",
       "---\n",
       "Signif. codes:  0 '***' 0.001 '**' 0.01 '*' 0.05 '.' 0.1 ' ' 1\n",
       "\n",
       "Residual standard error: 9231 on 31 degrees of freedom\n",
       "Multiple R-squared:  0.9416,\tAdjusted R-squared:  0.9397 \n",
       "F-statistic: 499.5 on 1 and 31 DF,  p-value: < 2.2e-16\n"
      ]
     },
     "metadata": {},
     "output_type": "display_data"
    }
   ],
   "source": [
    "backwardElimination <- function(x, sl) {\n",
    "    numVars = length(x)\n",
    "    for (i in c(1:numVars)){\n",
    "      regressor = lm(formula = Profit ~ ., data = x)\n",
    "      maxVar = max(coef(summary(regressor))[c(2:numVars), \"Pr(>|t|)\"])\n",
    "      if (maxVar > sl){\n",
    "        j = which(coef(summary(regressor))[c(2:numVars), \"Pr(>|t|)\"] == maxVar)\n",
    "        x = x[, -j]\n",
    "      }\n",
    "      numVars = numVars - 1\n",
    "    }\n",
    "    return(summary(regressor))\n",
    "  }\n",
    "  \n",
    "  SL = 0.05\n",
    "  dataset = dataset[, c(1,2,3,4,5)]\n",
    "  backwardElimination(training_set, SL)"
   ]
  },
  {
   "cell_type": "code",
   "execution_count": null,
   "metadata": {},
   "outputs": [],
   "source": []
  }
 ],
 "metadata": {
  "kernelspec": {
   "display_name": "R",
   "language": "R",
   "name": "ir"
  },
  "language_info": {
   "codemirror_mode": "r",
   "file_extension": ".r",
   "mimetype": "text/x-r-source",
   "name": "R",
   "pygments_lexer": "r",
   "version": "3.5.1"
  }
 },
 "nbformat": 4,
 "nbformat_minor": 2
}
